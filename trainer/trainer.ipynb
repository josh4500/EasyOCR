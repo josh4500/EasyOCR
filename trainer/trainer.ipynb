{
 "cells": [
  {
   "cell_type": "code",
   "execution_count": 1,
   "metadata": {
    "ExecuteTime": {
     "end_time": "2021-07-23T04:19:23.488642Z",
     "start_time": "2021-07-23T04:19:21.854534Z"
    }
   },
   "outputs": [
    {
     "name": "stderr",
     "output_type": "stream",
     "text": [
      "/home/codespace/.python/current/lib/python3.10/site-packages/tqdm/auto.py:22: TqdmWarning: IProgress not found. Please update jupyter and ipywidgets. See https://ipywidgets.readthedocs.io/en/stable/user_install.html\n",
      "  from .autonotebook import tqdm as notebook_tqdm\n"
     ]
    }
   ],
   "source": [
    "import os\n",
    "import torch.backends.cudnn as cudnn\n",
    "import yaml\n",
    "from train import train\n",
    "from utils import AttrDict\n",
    "import pandas as pd"
   ]
  },
  {
   "cell_type": "code",
   "execution_count": 2,
   "metadata": {
    "ExecuteTime": {
     "end_time": "2021-07-23T04:19:23.885144Z",
     "start_time": "2021-07-23T04:19:23.880564Z"
    },
    "code_folding": []
   },
   "outputs": [],
   "source": [
    "cudnn.benchmark = True\n",
    "cudnn.deterministic = False"
   ]
  },
  {
   "cell_type": "code",
   "execution_count": 3,
   "metadata": {
    "ExecuteTime": {
     "end_time": "2021-07-23T04:19:24.119144Z",
     "start_time": "2021-07-23T04:19:24.112032Z"
    },
    "code_folding": [
     0
    ]
   },
   "outputs": [],
   "source": [
    "def get_config(file_path):\n",
    "    with open(file_path, 'r', encoding=\"utf8\") as stream:\n",
    "        opt = yaml.safe_load(stream)\n",
    "    opt = AttrDict(opt)\n",
    "    if opt.lang_char == 'None':\n",
    "        characters = ''\n",
    "        for data in opt['select_data'].split('-'):\n",
    "            csv_path = os.path.join(opt['train_data'], data, 'labels.csv')\n",
    "            df = pd.read_csv(csv_path, sep='^([^,]+),', engine='python', usecols=['filename', 'words'], keep_default_na=False)\n",
    "            all_char = ''.join(df['words'])\n",
    "            characters += ''.join(set(all_char))\n",
    "        characters = sorted(set(characters))\n",
    "        opt.character= ''.join(characters)\n",
    "    else:\n",
    "        opt.character = opt.number + opt.symbol + opt.lang_char\n",
    "    os.makedirs(f'./saved_models/{opt.experiment_name}', exist_ok=True)\n",
    "    return opt"
   ]
  },
  {
   "cell_type": "code",
   "execution_count": 4,
   "metadata": {
    "ExecuteTime": {
     "end_time": "2021-07-23T04:49:07.045060Z",
     "start_time": "2021-07-23T04:20:15.050992Z"
    }
   },
   "outputs": [
    {
     "name": "stdout",
     "output_type": "stream",
     "text": [
      "Filtering the images containing characters which are not in opt.character\n",
      "Filtering the images whose label is longer than opt.batch_max_length\n",
      "--------------------------------------------------------------------------------\n",
      "dataset_root: all_data\n",
      "opt.select_data: ['ebi_train_filtered']\n",
      "opt.batch_ratio: ['1']\n",
      "--------------------------------------------------------------------------------\n",
      "dataset_root:    all_data\t dataset: ebi_train_filtered\n",
      "all_data/dataset/3\n",
      "all_data/dataset/1\n",
      "all_data/dataset/2\n"
     ]
    },
    {
     "ename": "AssertionError",
     "evalue": "datasets should not be an empty iterable",
     "output_type": "error",
     "traceback": [
      "\u001b[0;31m---------------------------------------------------------------------------\u001b[0m",
      "\u001b[0;31mAssertionError\u001b[0m                            Traceback (most recent call last)",
      "Cell \u001b[0;32mIn [4], line 2\u001b[0m\n\u001b[1;32m      1\u001b[0m opt \u001b[39m=\u001b[39m get_config(\u001b[39m\"\u001b[39m\u001b[39mconfig_files/ebi_filtered_config.yaml\u001b[39m\u001b[39m\"\u001b[39m)\n\u001b[0;32m----> 2\u001b[0m train(opt, amp\u001b[39m=\u001b[39;49m\u001b[39mFalse\u001b[39;49;00m)\n",
      "File \u001b[0;32m/workspaces/EasyOCR/trainer/train.py:40\u001b[0m, in \u001b[0;36mtrain\u001b[0;34m(opt, show_number, amp)\u001b[0m\n\u001b[1;32m     38\u001b[0m opt\u001b[39m.\u001b[39mselect_data \u001b[39m=\u001b[39m opt\u001b[39m.\u001b[39mselect_data\u001b[39m.\u001b[39msplit(\u001b[39m'\u001b[39m\u001b[39m-\u001b[39m\u001b[39m'\u001b[39m)\n\u001b[1;32m     39\u001b[0m opt\u001b[39m.\u001b[39mbatch_ratio \u001b[39m=\u001b[39m opt\u001b[39m.\u001b[39mbatch_ratio\u001b[39m.\u001b[39msplit(\u001b[39m'\u001b[39m\u001b[39m-\u001b[39m\u001b[39m'\u001b[39m)\n\u001b[0;32m---> 40\u001b[0m train_dataset \u001b[39m=\u001b[39m Batch_Balanced_Dataset(opt)\n\u001b[1;32m     42\u001b[0m log \u001b[39m=\u001b[39m \u001b[39mopen\u001b[39m(\u001b[39mf\u001b[39m\u001b[39m'\u001b[39m\u001b[39m./saved_models/\u001b[39m\u001b[39m{\u001b[39;00mopt\u001b[39m.\u001b[39mexperiment_name\u001b[39m}\u001b[39;00m\u001b[39m/log_dataset.txt\u001b[39m\u001b[39m'\u001b[39m, \u001b[39m'\u001b[39m\u001b[39ma\u001b[39m\u001b[39m'\u001b[39m, encoding\u001b[39m=\u001b[39m\u001b[39m\"\u001b[39m\u001b[39mutf8\u001b[39m\u001b[39m\"\u001b[39m)\n\u001b[1;32m     43\u001b[0m AlignCollate_valid \u001b[39m=\u001b[39m AlignCollate(imgH\u001b[39m=\u001b[39mopt\u001b[39m.\u001b[39mimgH, imgW\u001b[39m=\u001b[39mopt\u001b[39m.\u001b[39mimgW, keep_ratio_with_pad\u001b[39m=\u001b[39mopt\u001b[39m.\u001b[39mPAD, contrast_adjust\u001b[39m=\u001b[39mopt\u001b[39m.\u001b[39mcontrast_adjust)\n",
      "File \u001b[0;32m/workspaces/EasyOCR/trainer/dataset.py:56\u001b[0m, in \u001b[0;36mBatch_Balanced_Dataset.__init__\u001b[0;34m(self, opt)\u001b[0m\n\u001b[1;32m     54\u001b[0m \u001b[39mprint\u001b[39m(dashed_line)\n\u001b[1;32m     55\u001b[0m log\u001b[39m.\u001b[39mwrite(dashed_line \u001b[39m+\u001b[39m \u001b[39m'\u001b[39m\u001b[39m\\n\u001b[39;00m\u001b[39m'\u001b[39m)\n\u001b[0;32m---> 56\u001b[0m _dataset, _dataset_log \u001b[39m=\u001b[39m hierarchical_dataset(root\u001b[39m=\u001b[39;49mopt\u001b[39m.\u001b[39;49mtrain_data, opt\u001b[39m=\u001b[39;49mopt, select_data\u001b[39m=\u001b[39;49m[selected_d])\n\u001b[1;32m     57\u001b[0m total_number_dataset \u001b[39m=\u001b[39m \u001b[39mlen\u001b[39m(_dataset)\n\u001b[1;32m     58\u001b[0m log\u001b[39m.\u001b[39mwrite(_dataset_log)\n",
      "File \u001b[0;32m/workspaces/EasyOCR/trainer/dataset.py:138\u001b[0m, in \u001b[0;36mhierarchical_dataset\u001b[0;34m(root, opt, select_data)\u001b[0m\n\u001b[1;32m    135\u001b[0m             dataset_log \u001b[39m+\u001b[39m\u001b[39m=\u001b[39m \u001b[39mf\u001b[39m\u001b[39m'\u001b[39m\u001b[39m{\u001b[39;00msub_dataset_log\u001b[39m}\u001b[39;00m\u001b[39m\\n\u001b[39;00m\u001b[39m'\u001b[39m\n\u001b[1;32m    136\u001b[0m             dataset_list\u001b[39m.\u001b[39mappend(dataset)\n\u001b[0;32m--> 138\u001b[0m concatenated_dataset \u001b[39m=\u001b[39m ConcatDataset(dataset_list)\n\u001b[1;32m    140\u001b[0m \u001b[39mreturn\u001b[39;00m concatenated_dataset, dataset_log\n",
      "File \u001b[0;32m~/.local/lib/python3.10/site-packages/torch/utils/data/dataset.py:222\u001b[0m, in \u001b[0;36mConcatDataset.__init__\u001b[0;34m(self, datasets)\u001b[0m\n\u001b[1;32m    220\u001b[0m \u001b[39msuper\u001b[39m(ConcatDataset, \u001b[39mself\u001b[39m)\u001b[39m.\u001b[39m\u001b[39m__init__\u001b[39m()\n\u001b[1;32m    221\u001b[0m \u001b[39mself\u001b[39m\u001b[39m.\u001b[39mdatasets \u001b[39m=\u001b[39m \u001b[39mlist\u001b[39m(datasets)\n\u001b[0;32m--> 222\u001b[0m \u001b[39massert\u001b[39;00m \u001b[39mlen\u001b[39m(\u001b[39mself\u001b[39m\u001b[39m.\u001b[39mdatasets) \u001b[39m>\u001b[39m \u001b[39m0\u001b[39m, \u001b[39m'\u001b[39m\u001b[39mdatasets should not be an empty iterable\u001b[39m\u001b[39m'\u001b[39m  \u001b[39m# type: ignore[arg-type]\u001b[39;00m\n\u001b[1;32m    223\u001b[0m \u001b[39mfor\u001b[39;00m d \u001b[39min\u001b[39;00m \u001b[39mself\u001b[39m\u001b[39m.\u001b[39mdatasets:\n\u001b[1;32m    224\u001b[0m     \u001b[39massert\u001b[39;00m \u001b[39mnot\u001b[39;00m \u001b[39misinstance\u001b[39m(d, IterableDataset), \u001b[39m\"\u001b[39m\u001b[39mConcatDataset does not support IterableDataset\u001b[39m\u001b[39m\"\u001b[39m\n",
      "\u001b[0;31mAssertionError\u001b[0m: datasets should not be an empty iterable"
     ]
    }
   ],
   "source": [
    "opt = get_config(\"config_files/ebi_filtered_config.yaml\")\n",
    "train(opt, amp=False)"
   ]
  },
  {
   "cell_type": "code",
   "execution_count": null,
   "metadata": {},
   "outputs": [],
   "source": []
  }
 ],
 "metadata": {
  "kernelspec": {
   "display_name": "Python 3.10.4 64-bit",
   "language": "python",
   "name": "python3"
  },
  "language_info": {
   "codemirror_mode": {
    "name": "ipython",
    "version": 3
   },
   "file_extension": ".py",
   "mimetype": "text/x-python",
   "name": "python",
   "nbconvert_exporter": "python",
   "pygments_lexer": "ipython3",
   "version": "3.10.4"
  },
  "vscode": {
   "interpreter": {
    "hash": "3ad933181bd8a04b432d3370b9dc3b0662ad032c4dfaa4e4f1596c548f763858"
   }
  }
 },
 "nbformat": 4,
 "nbformat_minor": 2
}
