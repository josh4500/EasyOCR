{
 "cells": [
  {
   "cell_type": "code",
   "execution_count": 1,
   "metadata": {},
   "outputs": [
    {
     "name": "stderr",
     "output_type": "stream",
     "text": [
      "2022-11-02 16:43:39.088930: I tensorflow/core/platform/cpu_feature_guard.cc:193] This TensorFlow binary is optimized with oneAPI Deep Neural Network Library (oneDNN) to use the following CPU instructions in performance-critical operations:  AVX2 AVX512F FMA\n",
      "To enable them in other operations, rebuild TensorFlow with the appropriate compiler flags.\n",
      "2022-11-02 16:43:39.252270: W tensorflow/stream_executor/platform/default/dso_loader.cc:64] Could not load dynamic library 'libcudart.so.11.0'; dlerror: libcudart.so.11.0: cannot open shared object file: No such file or directory; LD_LIBRARY_PATH: /home/codespace/.local/lib/python3.10/site-packages/cv2/../../lib64:\n",
      "2022-11-02 16:43:39.252306: I tensorflow/stream_executor/cuda/cudart_stub.cc:29] Ignore above cudart dlerror if you do not have a GPU set up on your machine.\n",
      "2022-11-02 16:43:39.300501: E tensorflow/stream_executor/cuda/cuda_blas.cc:2981] Unable to register cuBLAS factory: Attempting to register factory for plugin cuBLAS when one has already been registered\n",
      "2022-11-02 16:43:40.642104: W tensorflow/stream_executor/platform/default/dso_loader.cc:64] Could not load dynamic library 'libnvinfer.so.7'; dlerror: libnvinfer.so.7: cannot open shared object file: No such file or directory; LD_LIBRARY_PATH: /home/codespace/.local/lib/python3.10/site-packages/cv2/../../lib64:\n",
      "2022-11-02 16:43:40.642281: W tensorflow/stream_executor/platform/default/dso_loader.cc:64] Could not load dynamic library 'libnvinfer_plugin.so.7'; dlerror: libnvinfer_plugin.so.7: cannot open shared object file: No such file or directory; LD_LIBRARY_PATH: /home/codespace/.local/lib/python3.10/site-packages/cv2/../../lib64:\n",
      "2022-11-02 16:43:40.642298: W tensorflow/compiler/tf2tensorrt/utils/py_utils.cc:38] TF-TRT Warning: Cannot dlopen some TensorRT libraries. If you would like to use Nvidia GPU with TensorRT, please make sure the missing libraries mentioned above are installed properly.\n"
     ]
    },
    {
     "ename": "FileNotFoundError",
     "evalue": "[Errno 2] No such file or directory: 'all_data/ebi_val/labels.csv'",
     "output_type": "error",
     "traceback": [
      "\u001b[0;31m---------------------------------------------------------------------------\u001b[0m",
      "\u001b[0;31mFileNotFoundError\u001b[0m                         Traceback (most recent call last)",
      "Cell \u001b[0;32mIn [1], line 16\u001b[0m\n\u001b[1;32m     10\u001b[0m \u001b[39mfor\u001b[39;00m output_dir \u001b[39min\u001b[39;00m output_dirs:\n\u001b[1;32m     11\u001b[0m     generator \u001b[39m=\u001b[39m GeneratorFromRandom(\n\u001b[1;32m     12\u001b[0m         fonts\u001b[39m=\u001b[39mglob\u001b[39m.\u001b[39mglob(\u001b[39m\"\u001b[39m\u001b[39mfonts/*\u001b[39m\u001b[39m\"\u001b[39m),\n\u001b[1;32m     13\u001b[0m         count\u001b[39m=\u001b[39m\u001b[39m100\u001b[39m,\n\u001b[1;32m     14\u001b[0m     )\n\u001b[0;32m---> 16\u001b[0m     \u001b[39mwith\u001b[39;00m \u001b[39mopen\u001b[39;49m(os\u001b[39m.\u001b[39;49mpath\u001b[39m.\u001b[39;49mjoin(output_dir, \u001b[39m\"\u001b[39;49m\u001b[39mlabels.csv\u001b[39;49m\u001b[39m\"\u001b[39;49m), \u001b[39m'\u001b[39;49m\u001b[39mw\u001b[39;49m\u001b[39m'\u001b[39;49m, newline\u001b[39m=\u001b[39;49m\u001b[39m'\u001b[39;49m\u001b[39m'\u001b[39;49m) \u001b[39mas\u001b[39;00m csvfile:\n\u001b[1;32m     17\u001b[0m         writer \u001b[39m=\u001b[39m csv\u001b[39m.\u001b[39mwriter(csvfile)\n\u001b[1;32m     18\u001b[0m         \u001b[39m# write csv header\u001b[39;00m\n",
      "\u001b[0;31mFileNotFoundError\u001b[0m: [Errno 2] No such file or directory: 'all_data/ebi_val/labels.csv'"
     ]
    }
   ],
   "source": [
    "import csv\n",
    "import glob\n",
    "import os\n",
    "\n",
    "from trdg.generators import GeneratorFromRandom\n",
    "\n",
    "\n",
    "output_dirs = [\"all_data/\", \"all_data/ebi_val\"]\n",
    "\n",
    "for output_dir in output_dirs:\n",
    "    generator = GeneratorFromRandom(\n",
    "        fonts=glob.glob(\"fonts/*\"),\n",
    "        count=100,\n",
    "    )\n",
    "\n",
    "    with open(os.path.join(output_dir, \"labels.csv\"), 'w', newline='') as csvfile:\n",
    "        writer = csv.writer(csvfile)\n",
    "        # write csv header\n",
    "        writer.writerow([\"filename\", \"words\"])\n",
    "        for i, (img, label) in enumerate(generator):\n",
    "            img.save(f\"{output_dir}/{i}.jpg\")\n",
    "            writer.writerow([f\"{i}.jpg\", label])"
   ]
  }
 ],
 "metadata": {
  "kernelspec": {
   "display_name": "Python 3",
   "language": "python",
   "name": "python3"
  },
  "language_info": {
   "codemirror_mode": {
    "name": "ipython",
    "version": 3
   },
   "file_extension": ".py",
   "mimetype": "text/x-python",
   "name": "python",
   "nbconvert_exporter": "python",
   "pygments_lexer": "ipython3",
   "version": "3.10.4"
  },
  "orig_nbformat": 4,
  "vscode": {
   "interpreter": {
    "hash": "3ad933181bd8a04b432d3370b9dc3b0662ad032c4dfaa4e4f1596c548f763858"
   }
  }
 },
 "nbformat": 4,
 "nbformat_minor": 2
}
