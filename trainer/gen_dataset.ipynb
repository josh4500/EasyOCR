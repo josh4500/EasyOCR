{
 "cells": [
  {
   "cell_type": "code",
   "execution_count": 25,
   "metadata": {},
   "outputs": [],
   "source": [
    "import csv\n",
    "import glob\n",
    "import os\n",
    "\n",
    "from trdg.generators import (GeneratorFromRandom, GeneratorFromStrings)\n",
    "\n",
    "\n",
    "output_dirs = [\"all_data/ebi_val\"]\n",
    "\n",
    "for output_dir in output_dirs:\n",
    "    generator =  GeneratorFromStrings(\n",
    "        ['A', 'B', 'CH', 'D', 'E', 'Ẹ', 'G', 'H', 'I', 'Ị', 'J', 'K', 'M', 'N', 'NG', 'NY', \"O\", 'Ọ', 'P', 'R', 'S', 'T', 'U', 'Ụ', 'V', 'W', 'Y', 'Z'\n",
    "        'a', 'b', 'ch', 'd', 'e', 'ẹ', 'g', 'h', 'i', 'Ị', 'j', 'k', 'm', 'n', 'ng', 'ny', 'o', 'ọ', 'p', 'r', 's', 't', 'u' 'ụ', 'v', 'w', 'y', 'z'],\n",
    "        random_blur=True,\n",
    "        distorsion_type=1,\n",
    "        count=100,\n",
    "        size=64,\n",
    "        text_color='#000F55'\n",
    "    )\n",
    "\n",
    "    with open(os.path.join(output_dir, \"labels.csv\"), 'w', newline='') as csvfile:\n",
    "            writer = csv.writer(csvfile)\n",
    "            # write csv header\n",
    "            writer.writerow([\"filename\", \"words\"])\n",
    "            for i, (img, label) in enumerate(generator):\n",
    "                img.save(f\"{output_dir}/{i}.jpg\")\n",
    "                writer.writerow([f\"{i}.jpg\", label])"
   ]
  }
 ],
 "metadata": {
  "kernelspec": {
   "display_name": "Python 3",
   "language": "python",
   "name": "python3"
  },
  "language_info": {
   "codemirror_mode": {
    "name": "ipython",
    "version": 3
   },
   "file_extension": ".py",
   "mimetype": "text/x-python",
   "name": "python",
   "nbconvert_exporter": "python",
   "pygments_lexer": "ipython3",
   "version": "3.10.4"
  },
  "orig_nbformat": 4,
  "vscode": {
   "interpreter": {
    "hash": "3ad933181bd8a04b432d3370b9dc3b0662ad032c4dfaa4e4f1596c548f763858"
   }
  }
 },
 "nbformat": 4,
 "nbformat_minor": 2
}
