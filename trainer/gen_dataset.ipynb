{
 "cells": [
  {
   "cell_type": "code",
   "execution_count": 4,
   "metadata": {},
   "outputs": [],
   "source": [
    "import csv\n",
    "import glob\n",
    "import os\n",
    "\n",
    "from trdg.generators import (GeneratorFromRandom, GeneratorFromStrings)\n",
    "\n",
    "\n",
    "output_dirs = [\"all_data/\", \"all_data/ebi_val\"]\n",
    "\n",
    "for output_dir in output_dirs:\n",
    "    generator =  GeneratorFromStrings(\n",
    "        ['Test1', 'Test2', 'Test3'],\n",
    "        blur=2,\n",
    "        random_blur=True,\n",
    "        distorsion_type=1,\n",
    "        count=100,\n",
    "    )\n",
    "\n",
    "    with open(os.path.join(output_dir, \"labels.csv\"), 'w', newline='') as csvfile:\n",
    "        writer = csv.writer(csvfile)\n",
    "        # write csv header\n",
    "        writer.writerow([\"filename\", \"words\"])\n",
    "        for i, (img, label) in enumerate(generator):\n",
    "            img.save(f\"{output_dir}/{i}.jpg\")\n",
    "            writer.writerow([f\"{i}.jpg\", label])"
   ]
  }
 ],
 "metadata": {
  "kernelspec": {
   "display_name": "Python 3.11.0 64-bit",
   "language": "python",
   "name": "python3"
  },
  "language_info": {
   "codemirror_mode": {
    "name": "ipython",
    "version": 3
   },
   "file_extension": ".py",
   "mimetype": "text/x-python",
   "name": "python",
   "nbconvert_exporter": "python",
   "pygments_lexer": "ipython3",
   "version": "3.11.0"
  },
  "orig_nbformat": 4,
  "vscode": {
   "interpreter": {
    "hash": "7839403d7d77cf9cf3296337e7a81ccd0d8b24bf934fdb3ec14cd088b1088156"
   }
  }
 },
 "nbformat": 4,
 "nbformat_minor": 2
}
