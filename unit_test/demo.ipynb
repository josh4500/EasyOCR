{
 "cells": [
  {
   "cell_type": "code",
   "execution_count": 1,
   "id": "8083da92",
   "metadata": {
    "ExecuteTime": {
     "end_time": "2022-08-09T11:44:32.340662Z",
     "start_time": "2022-08-09T11:44:31.757862Z"
    }
   },
   "outputs": [
    {
     "name": "stderr",
     "output_type": "stream",
     "text": [
      "/home/codespace/.python/current/lib/python3.10/site-packages/tqdm/auto.py:22: TqdmWarning: IProgress not found. Please update jupyter and ipywidgets. See https://ipywidgets.readthedocs.io/en/stable/user_install.html\n",
      "  from .autonotebook import tqdm as notebook_tqdm\n"
     ]
    }
   ],
   "source": [
    "import os\n",
    "from unit_test import UnitTest"
   ]
  },
  {
   "cell_type": "markdown",
   "id": "1f664ba2",
   "metadata": {},
   "source": [
    "### Set up paths "
   ]
  },
  {
   "cell_type": "code",
   "execution_count": 2,
   "id": "ed49737e",
   "metadata": {
    "ExecuteTime": {
     "end_time": "2022-08-09T11:44:33.073519Z",
     "start_time": "2022-08-09T11:44:33.071997Z"
    }
   },
   "outputs": [],
   "source": [
    "easyocr_module = \"../easyocr\"\n",
    "verbose = 2\n",
    "test_data = \"./data/EasyOcrUnitTestPackage.pickle\"\n",
    "image_data_dir = \"../examples\""
   ]
  },
  {
   "cell_type": "markdown",
   "id": "99863c23",
   "metadata": {},
   "source": [
    "### Initialize UnitTest"
   ]
  },
  {
   "cell_type": "code",
   "execution_count": 3,
   "id": "487955be",
   "metadata": {
    "ExecuteTime": {
     "end_time": "2022-08-09T11:44:38.768726Z",
     "start_time": "2022-08-09T11:44:34.017508Z"
    },
    "scrolled": true
   },
   "outputs": [
    {
     "name": "stdout",
     "output_type": "stream",
     "text": [
      "Unit test is set for EasyOCR at /workspaces/EasyOCR/easyocr\n"
     ]
    },
    {
     "name": "stderr",
     "output_type": "stream",
     "text": [
      "CUDA not available - defaulting to CPU. Note: This module is much faster with a GPU.\n",
      "Downloading detection model, please wait. This may take several minutes depending upon your network connection.\n"
     ]
    },
    {
     "name": "stdout",
     "output_type": "stream",
     "text": [
      "Progress: |██████████████████████████████████████████████████| 100.0% Complete"
     ]
    },
    {
     "name": "stderr",
     "output_type": "stream",
     "text": [
      "Downloading recognition model, please wait. This may take several minutes depending upon your network connection.\n"
     ]
    },
    {
     "name": "stdout",
     "output_type": "stream",
     "text": [
      "Progress: |██████████████████████████████████████████████████| 100.0% Complete"
     ]
    }
   ],
   "source": [
    "unit_test = UnitTest(easyocr_module, \n",
    "                     test_data,\n",
    "                     image_data_dir\n",
    "                     )"
   ]
  },
  {
   "cell_type": "markdown",
   "id": "8a1da79b",
   "metadata": {},
   "source": [
    "### Run the test with verbosity level 2"
   ]
  },
  {
   "cell_type": "code",
   "execution_count": 4,
   "id": "37da586b",
   "metadata": {
    "ExecuteTime": {
     "end_time": "2022-08-09T11:44:47.011434Z",
     "start_time": "2022-08-09T11:44:40.669523Z"
    }
   },
   "outputs": [
    {
     "name": "stdout",
     "output_type": "stream",
     "text": [
      "Testing EasyOCR: 9 modules will be tested.\n",
      "\n",
      "##Testing module model initialization: 4 tests will be performed.\n",
      "#### test01: Counting parameters of detector module.\n",
      "#### Passed. [1/4]\n",
      "#### test02: Calculating total norm of parameters in detector module.\n",
      "#### Passed. [2/4]\n",
      "#### test03: Counting parameters of recognition module.\n",
      "#### Failed\n",
      "#### test04: Calculating total norm of parameters in recognition module.\n",
      "#### Passed. [3/4]\n",
      "##Module model initialization: Passed.\n",
      "\n",
      "##Testing module get_textbox function: 3 tests will be performed.\n",
      "#### test01: Testing with default input.\n"
     ]
    },
    {
     "ename": "RuntimeError",
     "evalue": "Found no NVIDIA driver on your system. Please check that you have an NVIDIA GPU and installed a driver from http://www.nvidia.com/Download/index.aspx",
     "output_type": "error",
     "traceback": [
      "\u001b[0;31m---------------------------------------------------------------------------\u001b[0m",
      "\u001b[0;31mRuntimeError\u001b[0m                              Traceback (most recent call last)",
      "Cell \u001b[0;32mIn [4], line 1\u001b[0m\n\u001b[0;32m----> 1\u001b[0m unit_test\u001b[39m.\u001b[39;49mdo_test(verbose \u001b[39m=\u001b[39;49m \u001b[39m2\u001b[39;49m)\n",
      "File \u001b[0;32m/workspaces/EasyOCR/unit_test/unit_test.py:198\u001b[0m, in \u001b[0;36mUnitTest.do_test\u001b[0;34m(self, verbose)\u001b[0m\n\u001b[1;32m    196\u001b[0m \u001b[39mif\u001b[39;00m verbose \u001b[39m>\u001b[39m \u001b[39m3\u001b[39m:\n\u001b[1;32m    197\u001b[0m     \u001b[39mprint\u001b[39m(\u001b[39m\"\u001b[39m\u001b[39m###### Input: \u001b[39m\u001b[39m{}\u001b[39;00m\u001b[39m\"\u001b[39m\u001b[39m.\u001b[39mformat(test[\u001b[39m'\u001b[39m\u001b[39minput\u001b[39m\u001b[39m'\u001b[39m]))\n\u001b[0;32m--> 198\u001b[0m results \u001b[39m=\u001b[39m test_method(\u001b[39m*\u001b[39;49mtest[\u001b[39m'\u001b[39;49m\u001b[39minput\u001b[39;49m\u001b[39m'\u001b[39;49m])\n\u001b[1;32m    199\u001b[0m \u001b[39mif\u001b[39;00m verbose \u001b[39m>\u001b[39m \u001b[39m2\u001b[39m:\n\u001b[1;32m    200\u001b[0m     \u001b[39mprint\u001b[39m(\u001b[39m\"\u001b[39m\u001b[39m###### Expected output: \u001b[39m\u001b[39m{}\u001b[39;00m\u001b[39m\"\u001b[39m\u001b[39m.\u001b[39mformat(test[\u001b[39m'\u001b[39m\u001b[39moutput\u001b[39m\u001b[39m'\u001b[39m]))\n",
      "File \u001b[0;32m/workspaces/EasyOCR/unit_test/../easyocr/detection.py:95\u001b[0m, in \u001b[0;36mget_textbox\u001b[0;34m(detector, image, canvas_size, mag_ratio, text_threshold, link_threshold, low_text, poly, device, optimal_num_chars, **kwargs)\u001b[0m\n\u001b[1;32m     93\u001b[0m result \u001b[39m=\u001b[39m []\n\u001b[1;32m     94\u001b[0m estimate_num_chars \u001b[39m=\u001b[39m optimal_num_chars \u001b[39mis\u001b[39;00m \u001b[39mnot\u001b[39;00m \u001b[39mNone\u001b[39;00m\n\u001b[0;32m---> 95\u001b[0m bboxes_list, polys_list \u001b[39m=\u001b[39m test_net(canvas_size, mag_ratio, detector,\n\u001b[1;32m     96\u001b[0m                                    image, text_threshold,\n\u001b[1;32m     97\u001b[0m                                    link_threshold, low_text, poly,\n\u001b[1;32m     98\u001b[0m                                    device, estimate_num_chars)\n\u001b[1;32m     99\u001b[0m \u001b[39mif\u001b[39;00m estimate_num_chars:\n\u001b[1;32m    100\u001b[0m     polys_list \u001b[39m=\u001b[39m [[p \u001b[39mfor\u001b[39;00m p, _ \u001b[39min\u001b[39;00m \u001b[39msorted\u001b[39m(polys, key\u001b[39m=\u001b[39m\u001b[39mlambda\u001b[39;00m x: \u001b[39mabs\u001b[39m(optimal_num_chars \u001b[39m-\u001b[39m x[\u001b[39m1\u001b[39m]))]\n\u001b[1;32m    101\u001b[0m                   \u001b[39mfor\u001b[39;00m polys \u001b[39min\u001b[39;00m polys_list]\n",
      "File \u001b[0;32m/workspaces/EasyOCR/unit_test/../easyocr/detection.py:42\u001b[0m, in \u001b[0;36mtest_net\u001b[0;34m(canvas_size, mag_ratio, net, image, text_threshold, link_threshold, low_text, poly, device, estimate_num_chars)\u001b[0m\n\u001b[1;32m     39\u001b[0m x \u001b[39m=\u001b[39m [np\u001b[39m.\u001b[39mtranspose(normalizeMeanVariance(n_img), (\u001b[39m2\u001b[39m, \u001b[39m0\u001b[39m, \u001b[39m1\u001b[39m))\n\u001b[1;32m     40\u001b[0m      \u001b[39mfor\u001b[39;00m n_img \u001b[39min\u001b[39;00m img_resized_list]\n\u001b[1;32m     41\u001b[0m x \u001b[39m=\u001b[39m torch\u001b[39m.\u001b[39mfrom_numpy(np\u001b[39m.\u001b[39marray(x))\n\u001b[0;32m---> 42\u001b[0m x \u001b[39m=\u001b[39m x\u001b[39m.\u001b[39;49mto(device)\n\u001b[1;32m     44\u001b[0m \u001b[39m# forward pass\u001b[39;00m\n\u001b[1;32m     45\u001b[0m \u001b[39mwith\u001b[39;00m torch\u001b[39m.\u001b[39mno_grad():\n",
      "File \u001b[0;32m~/.local/lib/python3.10/site-packages/torch/cuda/__init__.py:229\u001b[0m, in \u001b[0;36m_lazy_init\u001b[0;34m()\u001b[0m\n\u001b[1;32m    227\u001b[0m \u001b[39mif\u001b[39;00m \u001b[39m'\u001b[39m\u001b[39mCUDA_MODULE_LOADING\u001b[39m\u001b[39m'\u001b[39m \u001b[39mnot\u001b[39;00m \u001b[39min\u001b[39;00m os\u001b[39m.\u001b[39menviron:\n\u001b[1;32m    228\u001b[0m     os\u001b[39m.\u001b[39menviron[\u001b[39m'\u001b[39m\u001b[39mCUDA_MODULE_LOADING\u001b[39m\u001b[39m'\u001b[39m] \u001b[39m=\u001b[39m \u001b[39m'\u001b[39m\u001b[39mLAZY\u001b[39m\u001b[39m'\u001b[39m\n\u001b[0;32m--> 229\u001b[0m torch\u001b[39m.\u001b[39;49m_C\u001b[39m.\u001b[39;49m_cuda_init()\n\u001b[1;32m    230\u001b[0m \u001b[39m# Some of the queued calls may reentrantly call _lazy_init();\u001b[39;00m\n\u001b[1;32m    231\u001b[0m \u001b[39m# we need to just return without initializing in that case.\u001b[39;00m\n\u001b[1;32m    232\u001b[0m \u001b[39m# However, we must not let any *other* threads in!\u001b[39;00m\n\u001b[1;32m    233\u001b[0m _tls\u001b[39m.\u001b[39mis_initializing \u001b[39m=\u001b[39m \u001b[39mTrue\u001b[39;00m\n",
      "\u001b[0;31mRuntimeError\u001b[0m: Found no NVIDIA driver on your system. Please check that you have an NVIDIA GPU and installed a driver from http://www.nvidia.com/Download/index.aspx"
     ]
    }
   ],
   "source": [
    "unit_test.do_test(verbose = 2)"
   ]
  },
  {
   "cell_type": "code",
   "execution_count": null,
   "id": "b62ccbd9",
   "metadata": {},
   "outputs": [],
   "source": []
  }
 ],
 "metadata": {
  "kernelspec": {
   "display_name": "Python 3",
   "language": "python",
   "name": "python3"
  },
  "language_info": {
   "codemirror_mode": {
    "name": "ipython",
    "version": 3
   },
   "file_extension": ".py",
   "mimetype": "text/x-python",
   "name": "python",
   "nbconvert_exporter": "python",
   "pygments_lexer": "ipython3",
   "version": "3.10.4"
  },
  "vscode": {
   "interpreter": {
    "hash": "3ad933181bd8a04b432d3370b9dc3b0662ad032c4dfaa4e4f1596c548f763858"
   }
  }
 },
 "nbformat": 4,
 "nbformat_minor": 5
}
